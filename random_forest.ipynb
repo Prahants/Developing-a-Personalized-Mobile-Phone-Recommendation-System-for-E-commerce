{
 "cells": [
  {
   "cell_type": "code",
   "execution_count": 9,
   "metadata": {},
   "outputs": [],
   "source": [
    "import pandas as pd\n",
    "from sklearn.preprocessing import LabelEncoder\n",
    "from sklearn.feature_extraction.text import TfidfVectorizer\n",
    "from sklearn.model_selection import train_test_split\n",
    "from sklearn.ensemble import RandomForestClassifier\n",
    "from sklearn.metrics import accuracy_score, classification_report"
   ]
  },
  {
   "cell_type": "code",
   "execution_count": 48,
   "metadata": {},
   "outputs": [
    {
     "data": {
      "text/html": [
       "<div>\n",
       "<style scoped>\n",
       "    .dataframe tbody tr th:only-of-type {\n",
       "        vertical-align: middle;\n",
       "    }\n",
       "\n",
       "    .dataframe tbody tr th {\n",
       "        vertical-align: top;\n",
       "    }\n",
       "\n",
       "    .dataframe thead th {\n",
       "        text-align: right;\n",
       "    }\n",
       "</style>\n",
       "<table border=\"1\" class=\"dataframe\">\n",
       "  <thead>\n",
       "    <tr style=\"text-align: right;\">\n",
       "      <th></th>\n",
       "      <th>Unnamed: 0</th>\n",
       "      <th>Title</th>\n",
       "      <th>Storage</th>\n",
       "      <th>Cameras</th>\n",
       "      <th>screen_size</th>\n",
       "      <th>Battery</th>\n",
       "      <th>processor</th>\n",
       "      <th>price</th>\n",
       "    </tr>\n",
       "  </thead>\n",
       "  <tbody>\n",
       "    <tr>\n",
       "      <th>0</th>\n",
       "      <td>0</td>\n",
       "      <td>SAMSUNG Galaxy F13 (Waterfall Blue, 64 GB)</td>\n",
       "      <td>4 GB RAM | 64 GB ROM | Expandable Upto 1 TB</td>\n",
       "      <td>50MP + 5MP + 2MP | 8MP Front Camera</td>\n",
       "      <td>16.76 cm (6.6 inch) Full HD+ Display</td>\n",
       "      <td>6000 mAh Lithium Ion Battery</td>\n",
       "      <td>Exynos 850 Processor</td>\n",
       "      <td>₹9,499</td>\n",
       "    </tr>\n",
       "    <tr>\n",
       "      <th>1</th>\n",
       "      <td>1</td>\n",
       "      <td>SAMSUNG Galaxy F13 (Sunrise Copper, 64 GB)</td>\n",
       "      <td>4 GB RAM | 64 GB ROM | Expandable Upto 1 TB</td>\n",
       "      <td>50MP + 5MP + 2MP | 8MP Front Camera</td>\n",
       "      <td>16.76 cm (6.6 inch) Full HD+ Display</td>\n",
       "      <td>6000 mAh Lithium Ion Battery</td>\n",
       "      <td>Exynos 850 Processor</td>\n",
       "      <td>₹9,499</td>\n",
       "    </tr>\n",
       "    <tr>\n",
       "      <th>2</th>\n",
       "      <td>2</td>\n",
       "      <td>APPLE iPhone 11 (White, 64 GB)</td>\n",
       "      <td>64 GB ROM</td>\n",
       "      <td>12MP + 12MP | 12MP Front Camera</td>\n",
       "      <td>15.49 cm (6.1 inch) Liquid Retina HD Display</td>\n",
       "      <td>A13 Bionic Chip Processor</td>\n",
       "      <td>Brand Warranty of 1 Year</td>\n",
       "      <td>₹35,990</td>\n",
       "    </tr>\n",
       "    <tr>\n",
       "      <th>3</th>\n",
       "      <td>3</td>\n",
       "      <td>IAIR Basic Feature Dual Sim Mobile Phone with ...</td>\n",
       "      <td>32 MB RAM | 32 MB ROM | Expandable Upto 32 GB</td>\n",
       "      <td>0.8MP + 0.8MP</td>\n",
       "      <td>4.5 cm (1.77 inch) Display</td>\n",
       "      <td>1200 mAh Battery</td>\n",
       "      <td>1 Year manufacturer warranty for device and 6 ...</td>\n",
       "      <td>₹887</td>\n",
       "    </tr>\n",
       "    <tr>\n",
       "      <th>4</th>\n",
       "      <td>4</td>\n",
       "      <td>SAMSUNG Galaxy F13 (Nightsky Green, 64 GB)</td>\n",
       "      <td>4 GB RAM | 64 GB ROM | Expandable Upto 1 TB</td>\n",
       "      <td>50MP + 5MP + 2MP | 8MP Front Camera</td>\n",
       "      <td>16.76 cm (6.6 inch) Full HD+ Display</td>\n",
       "      <td>6000 mAh Lithium Ion Battery</td>\n",
       "      <td>Exynos 850 Processor</td>\n",
       "      <td>₹9,499</td>\n",
       "    </tr>\n",
       "  </tbody>\n",
       "</table>\n",
       "</div>"
      ],
      "text/plain": [
       "   Unnamed: 0                                              Title  \\\n",
       "0           0         SAMSUNG Galaxy F13 (Waterfall Blue, 64 GB)   \n",
       "1           1         SAMSUNG Galaxy F13 (Sunrise Copper, 64 GB)   \n",
       "2           2                     APPLE iPhone 11 (White, 64 GB)   \n",
       "3           3  IAIR Basic Feature Dual Sim Mobile Phone with ...   \n",
       "4           4         SAMSUNG Galaxy F13 (Nightsky Green, 64 GB)   \n",
       "\n",
       "                                         Storage  \\\n",
       "0    4 GB RAM | 64 GB ROM | Expandable Upto 1 TB   \n",
       "1    4 GB RAM | 64 GB ROM | Expandable Upto 1 TB   \n",
       "2                                      64 GB ROM   \n",
       "3  32 MB RAM | 32 MB ROM | Expandable Upto 32 GB   \n",
       "4    4 GB RAM | 64 GB ROM | Expandable Upto 1 TB   \n",
       "\n",
       "                               Cameras  \\\n",
       "0  50MP + 5MP + 2MP | 8MP Front Camera   \n",
       "1  50MP + 5MP + 2MP | 8MP Front Camera   \n",
       "2      12MP + 12MP | 12MP Front Camera   \n",
       "3                        0.8MP + 0.8MP   \n",
       "4  50MP + 5MP + 2MP | 8MP Front Camera   \n",
       "\n",
       "                                    screen_size                       Battery  \\\n",
       "0          16.76 cm (6.6 inch) Full HD+ Display  6000 mAh Lithium Ion Battery   \n",
       "1          16.76 cm (6.6 inch) Full HD+ Display  6000 mAh Lithium Ion Battery   \n",
       "2  15.49 cm (6.1 inch) Liquid Retina HD Display     A13 Bionic Chip Processor   \n",
       "3                    4.5 cm (1.77 inch) Display              1200 mAh Battery   \n",
       "4          16.76 cm (6.6 inch) Full HD+ Display  6000 mAh Lithium Ion Battery   \n",
       "\n",
       "                                           processor    price  \n",
       "0                               Exynos 850 Processor   ₹9,499  \n",
       "1                               Exynos 850 Processor   ₹9,499  \n",
       "2                           Brand Warranty of 1 Year  ₹35,990  \n",
       "3  1 Year manufacturer warranty for device and 6 ...     ₹887  \n",
       "4                               Exynos 850 Processor   ₹9,499  "
      ]
     },
     "execution_count": 48,
     "metadata": {},
     "output_type": "execute_result"
    }
   ],
   "source": [
    "# Load the data and inspect the first few rows\n",
    "data_path = 'flipkart Mobiles.csv'\n",
    "data = pd.read_csv(data_path)\n",
    "data.head()"
   ]
  },
  {
   "cell_type": "code",
   "execution_count": 49,
   "metadata": {},
   "outputs": [],
   "source": [
    "# Combine relevant columns to form descriptions\n",
    "data['Description'] = data[['Storage', 'Cameras', 'screen_size', 'Battery', 'processor']].apply(lambda x: ' '.join(x.dropna().astype(str)), axis=1)"
   ]
  },
  {
   "cell_type": "code",
   "execution_count": 50,
   "metadata": {},
   "outputs": [],
   "source": [
    "# Convert price to numeric by removing any non-numeric characters\n",
    "data['price'] = data['price'].replace('[\\₹,]', '', regex=True).astype(float)"
   ]
  },
  {
   "cell_type": "code",
   "execution_count": 51,
   "metadata": {},
   "outputs": [],
   "source": [
    "# Handle missing values\n",
    "data = data.dropna(subset=['Title', 'price', 'Description'])"
   ]
  },
  {
   "cell_type": "code",
   "execution_count": 52,
   "metadata": {},
   "outputs": [],
   "source": [
    "# Ensure all text data is in string format\n",
    "data['Description'] = data['Description'].astype(str)"
   ]
  },
  {
   "cell_type": "code",
   "execution_count": 53,
   "metadata": {},
   "outputs": [],
   "source": [
    "# Filter out rows with empty strings in 'Description'\n",
    "data = data[data['Description'].str.strip() != '']"
   ]
  },
  {
   "cell_type": "code",
   "execution_count": 54,
   "metadata": {},
   "outputs": [],
   "source": [
    "# Define a function to clean text\n",
    "def clean_text(text):\n",
    "    text = text.lower()  # Convert to lowercase\n",
    "    text = ''.join([char for char in text if char.isalnum() or char.isspace()])  # Remove non-alphanumeric characters\n",
    "    return text"
   ]
  },
  {
   "cell_type": "code",
   "execution_count": 55,
   "metadata": {},
   "outputs": [],
   "source": [
    "# Apply the cleaning function\n",
    "data['Description'] = data['Description'].apply(clean_text)"
   ]
  },
  {
   "cell_type": "code",
   "execution_count": 56,
   "metadata": {},
   "outputs": [],
   "source": [
    "# Ensure there are no rows with just stop words\n",
    "def is_meaningful(text):\n",
    "    # Simple check: text length greater than a threshold (e.g., 3 words)\n",
    "    return len(text.split()) > 3"
   ]
  },
  {
   "cell_type": "code",
   "execution_count": 57,
   "metadata": {},
   "outputs": [],
   "source": [
    "data = data[data['Description'].apply(is_meaningful)]"
   ]
  },
  {
   "cell_type": "code",
   "execution_count": 58,
   "metadata": {},
   "outputs": [],
   "source": [
    "# Encoding categorical features\n",
    "label_encoder = LabelEncoder()\n",
    "data['Title'] = label_encoder.fit_transform(data['Title'])"
   ]
  },
  {
   "cell_type": "code",
   "execution_count": 59,
   "metadata": {},
   "outputs": [],
   "source": [
    "# Vectorizing text data\n",
    "tfidf_vectorizer = TfidfVectorizer(max_features=500, stop_words='english')"
   ]
  },
  {
   "cell_type": "code",
   "execution_count": 60,
   "metadata": {},
   "outputs": [],
   "source": [
    "# Fit and transform the description column\n",
    "description_tfidf = tfidf_vectorizer.fit_transform(data['Description'])"
   ]
  },
  {
   "cell_type": "code",
   "execution_count": 61,
   "metadata": {},
   "outputs": [],
   "source": [
    "# Combine all features into a single DataFrame\n",
    "description_df = pd.DataFrame(description_tfidf.toarray(), columns=[f'desc_{i}' for i in range(description_tfidf.shape[1])])\n",
    "\n",
    "features = pd.concat([data[['Title', 'price']], description_df], axis=1)"
   ]
  },
  {
   "cell_type": "code",
   "execution_count": 62,
   "metadata": {},
   "outputs": [],
   "source": [
    "# Define target variable (for demonstration, we'll assume a dummy target variable)\n",
    "data['Target'] = (data['price'] > data['price'].mean()).astype(int)  # Example target variable\n",
    "target = data['Target']"
   ]
  },
  {
   "cell_type": "code",
   "execution_count": 63,
   "metadata": {},
   "outputs": [],
   "source": [
    "# Split the data\n",
    "X_train, X_test, y_train, y_test = train_test_split(features, target, test_size=0.2, random_state=42)"
   ]
  },
  {
   "cell_type": "code",
   "execution_count": 64,
   "metadata": {},
   "outputs": [
    {
     "data": {
      "text/html": [
       "<style>#sk-container-id-1 {color: black;}#sk-container-id-1 pre{padding: 0;}#sk-container-id-1 div.sk-toggleable {background-color: white;}#sk-container-id-1 label.sk-toggleable__label {cursor: pointer;display: block;width: 100%;margin-bottom: 0;padding: 0.3em;box-sizing: border-box;text-align: center;}#sk-container-id-1 label.sk-toggleable__label-arrow:before {content: \"▸\";float: left;margin-right: 0.25em;color: #696969;}#sk-container-id-1 label.sk-toggleable__label-arrow:hover:before {color: black;}#sk-container-id-1 div.sk-estimator:hover label.sk-toggleable__label-arrow:before {color: black;}#sk-container-id-1 div.sk-toggleable__content {max-height: 0;max-width: 0;overflow: hidden;text-align: left;background-color: #f0f8ff;}#sk-container-id-1 div.sk-toggleable__content pre {margin: 0.2em;color: black;border-radius: 0.25em;background-color: #f0f8ff;}#sk-container-id-1 input.sk-toggleable__control:checked~div.sk-toggleable__content {max-height: 200px;max-width: 100%;overflow: auto;}#sk-container-id-1 input.sk-toggleable__control:checked~label.sk-toggleable__label-arrow:before {content: \"▾\";}#sk-container-id-1 div.sk-estimator input.sk-toggleable__control:checked~label.sk-toggleable__label {background-color: #d4ebff;}#sk-container-id-1 div.sk-label input.sk-toggleable__control:checked~label.sk-toggleable__label {background-color: #d4ebff;}#sk-container-id-1 input.sk-hidden--visually {border: 0;clip: rect(1px 1px 1px 1px);clip: rect(1px, 1px, 1px, 1px);height: 1px;margin: -1px;overflow: hidden;padding: 0;position: absolute;width: 1px;}#sk-container-id-1 div.sk-estimator {font-family: monospace;background-color: #f0f8ff;border: 1px dotted black;border-radius: 0.25em;box-sizing: border-box;margin-bottom: 0.5em;}#sk-container-id-1 div.sk-estimator:hover {background-color: #d4ebff;}#sk-container-id-1 div.sk-parallel-item::after {content: \"\";width: 100%;border-bottom: 1px solid gray;flex-grow: 1;}#sk-container-id-1 div.sk-label:hover label.sk-toggleable__label {background-color: #d4ebff;}#sk-container-id-1 div.sk-serial::before {content: \"\";position: absolute;border-left: 1px solid gray;box-sizing: border-box;top: 0;bottom: 0;left: 50%;z-index: 0;}#sk-container-id-1 div.sk-serial {display: flex;flex-direction: column;align-items: center;background-color: white;padding-right: 0.2em;padding-left: 0.2em;position: relative;}#sk-container-id-1 div.sk-item {position: relative;z-index: 1;}#sk-container-id-1 div.sk-parallel {display: flex;align-items: stretch;justify-content: center;background-color: white;position: relative;}#sk-container-id-1 div.sk-item::before, #sk-container-id-1 div.sk-parallel-item::before {content: \"\";position: absolute;border-left: 1px solid gray;box-sizing: border-box;top: 0;bottom: 0;left: 50%;z-index: -1;}#sk-container-id-1 div.sk-parallel-item {display: flex;flex-direction: column;z-index: 1;position: relative;background-color: white;}#sk-container-id-1 div.sk-parallel-item:first-child::after {align-self: flex-end;width: 50%;}#sk-container-id-1 div.sk-parallel-item:last-child::after {align-self: flex-start;width: 50%;}#sk-container-id-1 div.sk-parallel-item:only-child::after {width: 0;}#sk-container-id-1 div.sk-dashed-wrapped {border: 1px dashed gray;margin: 0 0.4em 0.5em 0.4em;box-sizing: border-box;padding-bottom: 0.4em;background-color: white;}#sk-container-id-1 div.sk-label label {font-family: monospace;font-weight: bold;display: inline-block;line-height: 1.2em;}#sk-container-id-1 div.sk-label-container {text-align: center;}#sk-container-id-1 div.sk-container {/* jupyter's `normalize.less` sets `[hidden] { display: none; }` but bootstrap.min.css set `[hidden] { display: none !important; }` so we also need the `!important` here to be able to override the default hidden behavior on the sphinx rendered scikit-learn.org. See: https://github.com/scikit-learn/scikit-learn/issues/21755 */display: inline-block !important;position: relative;}#sk-container-id-1 div.sk-text-repr-fallback {display: none;}</style><div id=\"sk-container-id-1\" class=\"sk-top-container\"><div class=\"sk-text-repr-fallback\"><pre>RandomForestClassifier(random_state=42)</pre><b>In a Jupyter environment, please rerun this cell to show the HTML representation or trust the notebook. <br />On GitHub, the HTML representation is unable to render, please try loading this page with nbviewer.org.</b></div><div class=\"sk-container\" hidden><div class=\"sk-item\"><div class=\"sk-estimator sk-toggleable\"><input class=\"sk-toggleable__control sk-hidden--visually\" id=\"sk-estimator-id-1\" type=\"checkbox\" checked><label for=\"sk-estimator-id-1\" class=\"sk-toggleable__label sk-toggleable__label-arrow\">RandomForestClassifier</label><div class=\"sk-toggleable__content\"><pre>RandomForestClassifier(random_state=42)</pre></div></div></div></div></div>"
      ],
      "text/plain": [
       "RandomForestClassifier(random_state=42)"
      ]
     },
     "execution_count": 64,
     "metadata": {},
     "output_type": "execute_result"
    }
   ],
   "source": [
    "# Train the Random Forest model\n",
    "rf_model = RandomForestClassifier(n_estimators=100, random_state=42)\n",
    "rf_model.fit(X_train, y_train)"
   ]
  },
  {
   "cell_type": "code",
   "execution_count": 65,
   "metadata": {},
   "outputs": [],
   "source": [
    "# Make predictions\n",
    "y_pred = rf_model.predict(X_test)"
   ]
  },
  {
   "cell_type": "code",
   "execution_count": 66,
   "metadata": {},
   "outputs": [],
   "source": [
    "# Evaluate the model\n",
    "accuracy = accuracy_score(y_test, y_pred)\n",
    "report = classification_report(y_test, y_pred)"
   ]
  },
  {
   "cell_type": "code",
   "execution_count": 68,
   "metadata": {},
   "outputs": [
    {
     "data": {
      "text/plain": [
       "0.9940476190476191"
      ]
     },
     "execution_count": 68,
     "metadata": {},
     "output_type": "execute_result"
    }
   ],
   "source": [
    "\n",
    "accuracy"
   ]
  },
  {
   "cell_type": "code",
   "execution_count": 69,
   "metadata": {},
   "outputs": [
    {
     "data": {
      "text/plain": [
       "'              precision    recall  f1-score   support\\n\\n           0       0.99      1.00      1.00       103\\n           1       1.00      0.98      0.99        65\\n\\n    accuracy                           0.99       168\\n   macro avg       1.00      0.99      0.99       168\\nweighted avg       0.99      0.99      0.99       168\\n'"
      ]
     },
     "execution_count": 69,
     "metadata": {},
     "output_type": "execute_result"
    }
   ],
   "source": [
    "report"
   ]
  },
  {
   "cell_type": "code",
   "execution_count": null,
   "metadata": {},
   "outputs": [],
   "source": []
  }
 ],
 "metadata": {
  "kernelspec": {
   "display_name": "Python 3",
   "language": "python",
   "name": "python3"
  },
  "language_info": {
   "codemirror_mode": {
    "name": "ipython",
    "version": 3
   },
   "file_extension": ".py",
   "mimetype": "text/x-python",
   "name": "python",
   "nbconvert_exporter": "python",
   "pygments_lexer": "ipython3",
   "version": "3.10.10"
  }
 },
 "nbformat": 4,
 "nbformat_minor": 2
}
